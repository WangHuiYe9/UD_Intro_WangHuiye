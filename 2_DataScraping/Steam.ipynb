{
 "cells": [
  {
   "cell_type": "code",
   "execution_count": 4,
   "id": "ac4e8ff6",
   "metadata": {},
   "outputs": [],
   "source": [
    "# Import Selenium and its sub libraries\n",
    "import selenium \n",
    "from selenium import webdriver\n",
    "from selenium.webdriver.common.by import By\n",
    "from selenium.webdriver.common.keys import Keys\n",
    "from selenium.webdriver.support.ui import Select\n",
    "from selenium.webdriver.support.ui import WebDriverWait\n",
    "from selenium.webdriver.support import expected_conditions as EC\n",
    "from time import sleep\n",
    "import re"
   ]
  },
  {
   "cell_type": "code",
   "execution_count": 5,
   "id": "8ce63c4c",
   "metadata": {},
   "outputs": [],
   "source": [
    "url=\"https://store.steampowered.com/\""
   ]
  },
  {
   "cell_type": "code",
   "execution_count": 6,
   "id": "4efefce0",
   "metadata": {},
   "outputs": [],
   "source": [
    "def extract_page_data(driver):\n",
    "    #Get all projects\n",
    "    projects= driver.find_elements(\"class name\",\"responsive_search_name_combined\")\n",
    "    sleep(1)\n",
    "\n",
    "    print(len(projects))\n",
    "\n",
    "    for p in range(10):\n",
    "          \n",
    "            #Extracting title\n",
    "            name = projects[p].find_element(\"class name\",\"title\").text\n",
    "            print(name)\n",
    "            \n",
    "            #Extracting price\n",
    "            price = projects[p].find_element(\"class name\",\"discount_original_price\").text\n",
    "            print(price)\n",
    "            \n",
    "            #Extracting discont price\n",
    "            discont = projects[p].find_element(\"class name\",\"discount_final_price\").text\n",
    "            print(discont)\n",
    "            \n",
    "            save = float(price.lstrip('£')) - float(discont.lstrip('£'))\n",
    "            print(\"you have saved: \" + str(save) + \"£\")\n",
    "        \n",
    "            #Extraction of link\n",
    "            #link = projects[p].find_element(\"class name\",\"search_result_row ds_collapse_flag  app_impression_tracked\").get_attribute('href')\n",
    "            #print(link)\n",
    "        \n",
    "                  \n",
    "            #Add item to the respective lists\n",
    "            name_list.append(name)\n",
    "            save_list.append(save)\n",
    "            #link_list.append(link)\n",
    "            #sleep(1)  "
   ]
  },
  {
   "cell_type": "code",
   "execution_count": 7,
   "id": "f9c66a80",
   "metadata": {},
   "outputs": [],
   "source": [
    "def extract_pic_data(driver):\n",
    "    #Get all projects\n",
    "    projects= driver.find_elements(\"class name\",\"search_result_row.ds_collapse_flag\")\n",
    "    sleep(1)\n",
    "    \n",
    "    print(len(projects))\n",
    "    \n",
    "    for p in range(10):\n",
    "       \n",
    "      #Extraction of link\n",
    "        link = projects[p].find_element(\"tag name\",\"img\").get_attribute('src')\n",
    "        print(link)\n",
    "        \n",
    "        link_list.append(link)\n",
    "        sleep(1)  "
   ]
  },
  {
   "cell_type": "code",
   "execution_count": 8,
   "id": "165a54d4",
   "metadata": {
    "scrolled": false
   },
   "outputs": [
    {
     "name": "stdout",
     "output_type": "stream",
     "text": [
      "50\n",
      "https://cdn.akamai.steamstatic.com/steam/apps/394360/capsule_sm_120.jpg?t=1695630955\n",
      "https://cdn.akamai.steamstatic.com/steam/apps/1361210/capsule_sm_120_alt_assets_3.jpg?t=1696613545\n",
      "https://cdn.akamai.steamstatic.com/steam/apps/1245620/capsule_sm_120.jpg?t=1683618443\n",
      "https://cdn.akamai.steamstatic.com/steam/apps/359550/capsule_sm_120.jpg?t=1694635629\n",
      "https://cdn.akamai.steamstatic.com/steam/apps/306130/capsule_sm_120_alt_assets_12_schinese.jpg?t=1696006182\n",
      "https://cdn.akamai.steamstatic.com/steam/apps/594650/capsule_sm_120_alt_assets_19.jpg?t=1696522186\n",
      "https://cdn.akamai.steamstatic.com/steam/apps/2231380/capsule_sm_120.jpg?t=1694555383\n",
      "https://cdn.akamai.steamstatic.com/steam/apps/1637320/capsule_sm_120_alt_assets_7_schinese.jpg?t=1696881182\n",
      "https://cdn.akamai.steamstatic.com/steam/apps/1282100/capsule_sm_120.jpg?t=1691690139\n",
      "https://cdn.akamai.steamstatic.com/steam/apps/275850/capsule_sm_120.jpg?t=1692895292\n",
      "50\n",
      "Hearts of Iron IV\n",
      "£34.99\n",
      "£10.49\n",
      "you have saved: 24.5£\n",
      "战锤40K：暗潮\n",
      "£32.99\n",
      "£21.44\n",
      "you have saved: 11.55£\n",
      "艾尔登法环\n",
      "£49.99\n",
      "£32.99\n",
      "you have saved: 17.0£\n",
      "Tom Clancy's Rainbow Six® Siege\n",
      "£16.99\n",
      "£6.79\n",
      "you have saved: 10.2£\n",
      "《上古卷轴®OL》\n",
      "£15.99\n",
      "£4.79\n",
      "you have saved: 11.2£\n",
      "Hunt: Showdown\n",
      "£35.99\n",
      "£14.39\n",
      "you have saved: 21.6£\n",
      "Tom Clancy's Ghost Recon® Breakpoint\n",
      "£49.99\n",
      "£9.99\n",
      "you have saved: 40.0£\n",
      "Dome Keeper 穹顶守护者\n",
      "£14.99\n",
      "£5.99\n",
      "you have saved: 9.0£\n",
      "遗迹2\n",
      "£41.99\n",
      "£33.59\n",
      "you have saved: 8.399999999999999£\n",
      "No Man's Sky\n",
      "£49.99\n",
      "£24.99\n",
      "you have saved: 25.000000000000004£\n",
      "THANK YOU Gabe, you have \"saved\" me: 153.45000000000002£, much cheaper than PS5 :)\n"
     ]
    }
   ],
   "source": [
    "driver = webdriver.Chrome()\n",
    "driver.get(url)\n",
    "#Select the gameshop category\n",
    "driver.find_element(\"xpath\",\"/html/body/div[1]/div[7]/div[6]/div[1]/div[2]/div[16]/div/div/a[2]\").click()\n",
    "sleep(1)\n",
    "\n",
    "#Create empty lists to store data\n",
    "name_list=[]\n",
    "link_list=[]\n",
    "save_list=[]\n",
    "F = 0\n",
    "\n",
    "#Run the function to gather the data\n",
    "extract_pic_data(driver)\n",
    "extract_page_data(driver)\n",
    "\n",
    "\n",
    "for i in range(0,9):\n",
    "    N = save_list[i]\n",
    "    F = F + N\n",
    "\n",
    "print('THANK YOU Gabe, you have \"saved\" me: ' + str(F) + \"£, much cheaper than PS5 :)\")\n",
    "\n",
    "#Close the webpage\n",
    "driver.quit()"
   ]
  },
  {
   "cell_type": "code",
   "execution_count": 10,
   "id": "1b0ae185",
   "metadata": {},
   "outputs": [
    {
     "name": "stdout",
     "output_type": "stream",
     "text": [
      "https://cdn.akamai.steamstatic.com/steam/apps/594650/capsule_sm_120_alt_assets_19.jpg?t=1696522186\n"
     ]
    }
   ],
   "source": [
    "print(link_list[5])"
   ]
  },
  {
   "cell_type": "code",
   "execution_count": 11,
   "id": "cbdfb683",
   "metadata": {},
   "outputs": [],
   "source": [
    "import requests\n",
    "\n",
    "driver = webdriver.Chrome()\n",
    "\n",
    "#define a counter for naming \n",
    "i=0\n",
    "\n",
    "#read the produced csv and iterate through the list\n",
    "#with open(\"archlinks.csv\", 'r',encoding='utf-8') as file:\n",
    "    #csvreader = csv.reader(file)    \n",
    "for url in range(10):       \n",
    "                \n",
    "        #open each link \n",
    "        driver.get(str(link_list[url]))\n",
    "        sleep(2)\n",
    "        \n",
    "        #find the image link\n",
    "        imglink = link_list[url]\n",
    "        \n",
    "        \n",
    "        #print(imglink)\n",
    "        i += 1    \n",
    "        \n",
    "        response = requests.get(imglink)\n",
    "        #name the images\n",
    "        imagename=\"image\" + str(i)+\".jpg\"\n",
    "        #save the images\n",
    "        with open(imagename, \"wb\") as f:\n",
    "            f.write(response.content)\n",
    "       \n",
    "    \n",
    "#Close the webpage\n",
    "driver.quit()"
   ]
  }
 ],
 "metadata": {
  "kernelspec": {
   "display_name": "Python 3 (ipykernel)",
   "language": "python",
   "name": "python3"
  },
  "language_info": {
   "codemirror_mode": {
    "name": "ipython",
    "version": 3
   },
   "file_extension": ".py",
   "mimetype": "text/x-python",
   "name": "python",
   "nbconvert_exporter": "python",
   "pygments_lexer": "ipython3",
   "version": "3.8.18"
  }
 },
 "nbformat": 4,
 "nbformat_minor": 5
}
