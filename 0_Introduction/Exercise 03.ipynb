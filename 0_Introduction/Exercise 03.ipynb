{
 "cells": [
  {
   "cell_type": "code",
   "execution_count": 5,
   "id": "d8cc7e4d",
   "metadata": {},
   "outputs": [
    {
     "name": "stdout",
     "output_type": "stream",
     "text": [
      "0.0\n",
      "3.63265306122449\n",
      "-0.42857142857142855\n",
      "59.95918367346939\n",
      "4337328\n",
      "3833759992447475122176\n"
     ]
    }
   ],
   "source": [
    "a=0\n",
    "b=178\n",
    "c=-21\n",
    "d=2938\n",
    "e=49\n",
    "f=436\n",
    "g=9948\n",
    "h=12\n",
    "i=20\n",
    "print (str(a/e) + \"\\n\" + str(b/e) + \"\\n\" + str(c/e) + \"\\n\" + str(d/e) + \"\\n\" + str(f*g) + '\\n' + str(h**i))"
   ]
  },
  {
   "cell_type": "code",
   "execution_count": null,
   "id": "c1998b1f",
   "metadata": {},
   "outputs": [],
   "source": []
  }
 ],
 "metadata": {
  "kernelspec": {
   "display_name": "Python 3 (ipykernel)",
   "language": "python",
   "name": "python3"
  },
  "language_info": {
   "codemirror_mode": {
    "name": "ipython",
    "version": 3
   },
   "file_extension": ".py",
   "mimetype": "text/x-python",
   "name": "python",
   "nbconvert_exporter": "python",
   "pygments_lexer": "ipython3",
   "version": "3.8.18"
  }
 },
 "nbformat": 4,
 "nbformat_minor": 5
}
