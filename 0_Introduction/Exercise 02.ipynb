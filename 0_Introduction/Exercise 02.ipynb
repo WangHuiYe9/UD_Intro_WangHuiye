{
 "cells": [
  {
   "cell_type": "code",
   "execution_count": 1,
   "id": "df9bac89",
   "metadata": {},
   "outputs": [
    {
     "name": "stdout",
     "output_type": "stream",
     "text": [
      "Wang Huiye\n",
      "ucbvhw4@ucl.ac.uk\n",
      "23\n"
     ]
    }
   ],
   "source": [
    "a='Wang Huiye'\n",
    "b='ucbvhw4@ucl.ac.uk'\n",
    "c='23'\n",
    "print (a + \"\\n\" + b + '\\n' + c)"
   ]
  },
  {
   "cell_type": "code",
   "execution_count": null,
   "id": "c229e5af",
   "metadata": {},
   "outputs": [],
   "source": []
  }
 ],
 "metadata": {
  "kernelspec": {
   "display_name": "Python 3 (ipykernel)",
   "language": "python",
   "name": "python3"
  },
  "language_info": {
   "codemirror_mode": {
    "name": "ipython",
    "version": 3
   },
   "file_extension": ".py",
   "mimetype": "text/x-python",
   "name": "python",
   "nbconvert_exporter": "python",
   "pygments_lexer": "ipython3",
   "version": "3.8.18"
  }
 },
 "nbformat": 4,
 "nbformat_minor": 5
}
