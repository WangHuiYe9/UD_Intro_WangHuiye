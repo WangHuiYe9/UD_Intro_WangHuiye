{
 "cells": [
  {
   "cell_type": "code",
   "execution_count": 3,
   "id": "4804d82d",
   "metadata": {},
   "outputs": [
    {
     "name": "stdout",
     "output_type": "stream",
     "text": [
      "input start 0\n",
      "input end 10\n",
      "input a guess 1\n",
      "try again\n",
      "input another guess 2\n",
      "try again\n",
      "input another guess 3\n",
      "try again\n",
      "input another guess 4\n",
      "you are success the nuber is 4\n"
     ]
    }
   ],
   "source": [
    "import random\n",
    "a= input(\"input start \")\n",
    "b= input(\"input end \")\n",
    "c= random.randint(int(a),int(b))\n",
    "d = input(\"input a guess \") \n",
    "while int(c) != int(d):\n",
    "    print(\"try again\")\n",
    "    d= input(\"input another guess \")\n",
    "else:\n",
    "    print('you are success the nuber is ' + str(c))"
   ]
  },
  {
   "cell_type": "code",
   "execution_count": null,
   "id": "f897c660",
   "metadata": {},
   "outputs": [],
   "source": []
  }
 ],
 "metadata": {
  "kernelspec": {
   "display_name": "Python 3 (ipykernel)",
   "language": "python",
   "name": "python3"
  },
  "language_info": {
   "codemirror_mode": {
    "name": "ipython",
    "version": 3
   },
   "file_extension": ".py",
   "mimetype": "text/x-python",
   "name": "python",
   "nbconvert_exporter": "python",
   "pygments_lexer": "ipython3",
   "version": "3.11.5"
  }
 },
 "nbformat": 4,
 "nbformat_minor": 5
}
