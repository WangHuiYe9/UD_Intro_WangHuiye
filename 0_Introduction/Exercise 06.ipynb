{
 "cells": [
  {
   "cell_type": "code",
   "execution_count": 19,
   "id": "e70bc2f5",
   "metadata": {},
   "outputs": [
    {
     "name": "stdout",
     "output_type": "stream",
     "text": [
      "Input a number 66\n",
      "positive\n"
     ]
    }
   ],
   "source": [
    "a= input(\"Input a number \")\n",
    "if int(a) > 0:\n",
    "    print (\"positive\")\n",
    "elif int(a) < 0:\n",
    "    print (\"negative\")\n",
    "else:\n",
    "    print (\"it is 0\")"
   ]
  },
  {
   "cell_type": "code",
   "execution_count": null,
   "id": "57681206",
   "metadata": {},
   "outputs": [],
   "source": []
  }
 ],
 "metadata": {
  "kernelspec": {
   "display_name": "Python 3 (ipykernel)",
   "language": "python",
   "name": "python3"
  },
  "language_info": {
   "codemirror_mode": {
    "name": "ipython",
    "version": 3
   },
   "file_extension": ".py",
   "mimetype": "text/x-python",
   "name": "python",
   "nbconvert_exporter": "python",
   "pygments_lexer": "ipython3",
   "version": "3.8.18"
  }
 },
 "nbformat": 4,
 "nbformat_minor": 5
}
