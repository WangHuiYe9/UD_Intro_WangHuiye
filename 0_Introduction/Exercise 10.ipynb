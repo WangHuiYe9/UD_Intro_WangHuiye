{
 "cells": [
  {
   "cell_type": "code",
   "execution_count": 3,
   "id": "2a344754",
   "metadata": {},
   "outputs": [
    {
     "name": "stdout",
     "output_type": "stream",
     "text": [
      "the count of numbers: 6\n",
      "1\n",
      "1\n",
      "1\n",
      "2\n",
      "2\n",
      "3\n",
      "4\n",
      "5\n",
      "7\n",
      "9\n",
      "12\n",
      "16\n",
      "21\n",
      "28\n",
      "37\n",
      "49\n",
      "65\n",
      "86\n"
     ]
    }
   ],
   "source": [
    "a=1\n",
    "b=1\n",
    "c=1\n",
    "inp = input(\"the count of numbers: \")\n",
    "for i in range(int(inp)):\n",
    "    print(a)\n",
    "    print(b)\n",
    "    a=a+b\n",
    "    b=b+c\n",
    "    print(c)\n",
    "    c=c+a"
   ]
  },
  {
   "cell_type": "code",
   "execution_count": null,
   "id": "bd4ec8fb",
   "metadata": {},
   "outputs": [],
   "source": []
  }
 ],
 "metadata": {
  "kernelspec": {
   "display_name": "Python 3 (ipykernel)",
   "language": "python",
   "name": "python3"
  },
  "language_info": {
   "codemirror_mode": {
    "name": "ipython",
    "version": 3
   },
   "file_extension": ".py",
   "mimetype": "text/x-python",
   "name": "python",
   "nbconvert_exporter": "python",
   "pygments_lexer": "ipython3",
   "version": "3.11.5"
  }
 },
 "nbformat": 4,
 "nbformat_minor": 5
}
