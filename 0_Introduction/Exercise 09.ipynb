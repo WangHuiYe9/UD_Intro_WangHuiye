{
 "cells": [
  {
   "cell_type": "code",
   "execution_count": 32,
   "id": "1a99590e",
   "metadata": {},
   "outputs": [
    {
     "name": "stdout",
     "output_type": "stream",
     "text": [
      "input the number of lines: 4\n",
      ". . . * \n",
      "\n",
      ". . * * * \n",
      "\n",
      ". * * * * * \n",
      "\n",
      "* * * * * * * \n",
      "\n",
      ". . . ||\n"
     ]
    }
   ],
   "source": [
    "a=input(\"input the number of lines: \")\n",
    "b=int(a)-1\n",
    "c=1\n",
    "for i in range(int(a)):\n",
    "    for i in range(b):\n",
    "        print(\".\",end =\" \")\n",
    "    for i in range(c):\n",
    "        print(\"*\",end =\" \") \n",
    "    print('\\n')\n",
    "    b=b-1\n",
    "    c=c+2\n",
    "for i in range ((c-2)//2):\n",
    "    print(\".\",end =\" \")\n",
    "print(\"||\")"
   ]
  }
 ],
 "metadata": {
  "kernelspec": {
   "display_name": "Python 3 (ipykernel)",
   "language": "python",
   "name": "python3"
  },
  "language_info": {
   "codemirror_mode": {
    "name": "ipython",
    "version": 3
   },
   "file_extension": ".py",
   "mimetype": "text/x-python",
   "name": "python",
   "nbconvert_exporter": "python",
   "pygments_lexer": "ipython3",
   "version": "3.11.5"
  }
 },
 "nbformat": 4,
 "nbformat_minor": 5
}
