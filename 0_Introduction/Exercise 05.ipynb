{
 "cells": [
  {
   "cell_type": "code",
   "execution_count": 4,
   "id": "aee7a779",
   "metadata": {},
   "outputs": [
    {
     "name": "stdout",
     "output_type": "stream",
     "text": [
      "Your first name wang\n",
      "Your last name huiye\n",
      "wang huiye\n"
     ]
    }
   ],
   "source": [
    "a= input(\"Your first name \")\n",
    "b= input(\"Your last name \")\n",
    "print( a + \" \" + b ) "
   ]
  },
  {
   "cell_type": "code",
   "execution_count": null,
   "id": "db241762",
   "metadata": {},
   "outputs": [],
   "source": []
  }
 ],
 "metadata": {
  "kernelspec": {
   "display_name": "Python 3 (ipykernel)",
   "language": "python",
   "name": "python3"
  },
  "language_info": {
   "codemirror_mode": {
    "name": "ipython",
    "version": 3
   },
   "file_extension": ".py",
   "mimetype": "text/x-python",
   "name": "python",
   "nbconvert_exporter": "python",
   "pygments_lexer": "ipython3",
   "version": "3.8.18"
  }
 },
 "nbformat": 4,
 "nbformat_minor": 5
}
