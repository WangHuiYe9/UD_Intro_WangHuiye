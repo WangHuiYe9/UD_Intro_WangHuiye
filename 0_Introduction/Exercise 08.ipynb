{
 "cells": [
  {
   "cell_type": "code",
   "execution_count": 15,
   "id": "a1c6923a",
   "metadata": {},
   "outputs": [
    {
     "name": "stdout",
     "output_type": "stream",
     "text": [
      "input a sentence:  some sort of sequential data structure, such as a list, tuple, dictionary, set or a string\n",
      "\n",
      "a\n",
      "a\n",
      "as\n",
      "data\n",
      "dictionary,\n",
      "list,\n",
      "of\n",
      "or\n",
      "sequential\n",
      "set\n",
      "some\n",
      "sort\n",
      "string\n",
      "structure,\n",
      "such\n",
      "tuple,\n"
     ]
    }
   ],
   "source": [
    "a = input(\"input a sentence: \")\n",
    "b = a.split(' ')\n",
    "b.sort()\n",
    "for i in b:\n",
    "    print(i)"
   ]
  },
  {
   "cell_type": "code",
   "execution_count": null,
   "id": "b44d381b",
   "metadata": {},
   "outputs": [],
   "source": []
  }
 ],
 "metadata": {
  "kernelspec": {
   "display_name": "Python 3 (ipykernel)",
   "language": "python",
   "name": "python3"
  },
  "language_info": {
   "codemirror_mode": {
    "name": "ipython",
    "version": 3
   },
   "file_extension": ".py",
   "mimetype": "text/x-python",
   "name": "python",
   "nbconvert_exporter": "python",
   "pygments_lexer": "ipython3",
   "version": "3.11.5"
  }
 },
 "nbformat": 4,
 "nbformat_minor": 5
}
