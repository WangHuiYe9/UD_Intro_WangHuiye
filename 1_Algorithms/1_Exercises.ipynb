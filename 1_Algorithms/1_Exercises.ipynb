{
 "cells": [
  {
   "cell_type": "markdown",
   "id": "38e188a5",
   "metadata": {},
   "source": [
    "# Exercise 00\n",
    "Write a piece of code that allocates a list of 20 integers and initializes each element by its index multiplied by 5. Print the result."
   ]
  },
  {
   "cell_type": "code",
   "execution_count": 23,
   "id": "01aa4f35",
   "metadata": {},
   "outputs": [
    {
     "name": "stdout",
     "output_type": "stream",
     "text": [
      "[41, 83, 43, 66, 93, 69, 89, 69, 87, 44, 21, 4, 49, 98, 60, 18, 64, 52, 30, 25]\n",
      "[205, 415, 215, 330, 465, 345, 445, 345, 435, 220, 105, 20, 245, 490, 300, 90, 320, 260, 150, 125]\n"
     ]
    }
   ],
   "source": [
    "import random\n",
    "oldlist = []\n",
    "\n",
    "for i in range(20):\n",
    "    oldlist.append(random.randint(0,100))\n",
    "print(oldlist)\n",
    "\n",
    "for i in range(len(oldlist)):\n",
    "    oldlist[i]=int(oldlist[i]) * 5\n",
    "print(oldlist)\n"
   ]
  },
  {
   "cell_type": "markdown",
   "id": "529d91ae",
   "metadata": {},
   "source": [
    "# Exercise 01\n",
    "Define a function that takes an integer as input, prints  all integers that it is divisable by, and returns the largest one."
   ]
  },
  {
   "cell_type": "code",
   "execution_count": 63,
   "id": "30e79132",
   "metadata": {},
   "outputs": [],
   "source": [
    "def myfun(n):\n",
    "    mlist=[]\n",
    "    for i in range(1,n):\n",
    "        if n%(i) == 0:\n",
    "            mlist.append(i)\n",
    "    print(mlist)\n",
    "    print('the largest is '+ str(mlist[len(mlist)-1]))"
   ]
  },
  {
   "cell_type": "code",
   "execution_count": 65,
   "id": "248fa299",
   "metadata": {},
   "outputs": [
    {
     "name": "stdout",
     "output_type": "stream",
     "text": [
      "[1, 2, 2273]\n",
      "the largest is 2273\n"
     ]
    }
   ],
   "source": [
    "myfun(4546)"
   ]
  },
  {
   "cell_type": "markdown",
   "id": "cfbe30d4",
   "metadata": {},
   "source": [
    "# Exercise 02\n",
    "- create a dictionary with 6 keys and values of your choice\n",
    "- write a function that takes a dictionary and a value as input and returns whether the value occurs as a key in the dictionary\n",
    "- write a function that takes a dictionary as input, and returns the dictionary but the keys are swapped with their values (resolve the issue if a value occurs twice!)"
   ]
  },
  {
   "cell_type": "code",
   "execution_count": 96,
   "id": "2123f1c6",
   "metadata": {},
   "outputs": [],
   "source": [
    "newD = {\n",
    "    'A':'1',\n",
    "    'B':'2',\n",
    "    'C':'3',\n",
    "    'D':'4',\n",
    "    'E':'5',\n",
    "    'F':'6'\n",
    "}"
   ]
  },
  {
   "cell_type": "code",
   "execution_count": 97,
   "id": "4cf5ae3e",
   "metadata": {},
   "outputs": [
    {
     "data": {
      "text/plain": [
       "dict_keys(['A', 'B', 'C', 'D', 'E', 'F'])"
      ]
     },
     "execution_count": 97,
     "metadata": {},
     "output_type": "execute_result"
    }
   ],
   "source": [
    "newD.keys()"
   ]
  },
  {
   "cell_type": "code",
   "execution_count": 114,
   "id": "f32e388b",
   "metadata": {},
   "outputs": [],
   "source": [
    "def nd(D,n):\n",
    "    bo= False\n",
    "    for i in D.keys():\n",
    "        if m == i:\n",
    "            bo = True\n",
    "    print(bo)\n",
    "    "
   ]
  },
  {
   "cell_type": "code",
   "execution_count": 117,
   "id": "54ce70d8",
   "metadata": {},
   "outputs": [
    {
     "name": "stdout",
     "output_type": "stream",
     "text": [
      "False\n"
     ]
    }
   ],
   "source": [
    "nd(newD,'M')"
   ]
  },
  {
   "cell_type": "markdown",
   "id": "b4b4e426",
   "metadata": {},
   "source": [
    "# Exercise 03\n",
    "Define a function that creates a dictionary of the first n fibonacci numbers as values paired with their indices as keys. "
   ]
  },
  {
   "cell_type": "code",
   "execution_count": null,
   "id": "7845b5a4",
   "metadata": {},
   "outputs": [],
   "source": []
  }
 ],
 "metadata": {
  "kernelspec": {
   "display_name": "Python 3 (ipykernel)",
   "language": "python",
   "name": "python3"
  },
  "language_info": {
   "codemirror_mode": {
    "name": "ipython",
    "version": 3
   },
   "file_extension": ".py",
   "mimetype": "text/x-python",
   "name": "python",
   "nbconvert_exporter": "python",
   "pygments_lexer": "ipython3",
   "version": "3.8.18"
  }
 },
 "nbformat": 4,
 "nbformat_minor": 5
}
